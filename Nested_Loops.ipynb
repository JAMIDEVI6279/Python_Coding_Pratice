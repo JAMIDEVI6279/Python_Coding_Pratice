{
 "cells": [
  {
   "cell_type": "markdown",
   "id": "23bac231",
   "metadata": {},
   "source": [
    "# Nested Loops"
   ]
  },
  {
   "cell_type": "markdown",
   "id": "61c1d72f",
   "metadata": {},
   "source": [
    "Date:26-12-2024 Day:Thursday"
   ]
  },
  {
   "cell_type": "markdown",
   "id": "28bfdf79",
   "metadata": {},
   "source": [
    "#### Write a program to print the following pattern\n",
    "<img src=\"ima1.jpg\" style=\"width:200px; height:200px; float: left;\">\n"
   ]
  },
  {
   "cell_type": "code",
   "execution_count": 5,
   "id": "fdef701d",
   "metadata": {},
   "outputs": [
    {
     "name": "stdout",
     "output_type": "stream",
     "text": [
      "Pass 1 - 1 2 3 4 5 \n",
      "Pass 2 - 1 2 3 4 5 \n",
      "Pass 3 - 1 2 3 4 5 \n",
      "Pass 4 - 1 2 3 4 5 \n",
      "Pass 5 - 1 2 3 4 5 \n"
     ]
    }
   ],
   "source": [
    "for i in range(1,6):\n",
    "    print(\"Pass\",i,\"-\",end=\" \")\n",
    "    for j in range(1,6):\n",
    "        print(j,end=\" \")\n",
    "    print()"
   ]
  },
  {
   "cell_type": "markdown",
   "id": "334d7e31",
   "metadata": {},
   "source": [
    "#### Write a program to print the following pattern\n",
    "<img src=\"ima2.jpg\" style=\"width:400px; height:200px; float: left;\">\n"
   ]
  },
  {
   "cell_type": "code",
   "execution_count": 6,
   "id": "7efda14a",
   "metadata": {},
   "outputs": [
    {
     "name": "stdout",
     "output_type": "stream",
     "text": [
      "* * * * * \n",
      "* * * * * \n",
      "* * * * * \n",
      "* * * * * \n",
      "* * * * * \n"
     ]
    }
   ],
   "source": [
    "for  i in range(1,6):\n",
    "    for j in range(1,6):\n",
    "        print(\"*\",end=\" \")\n",
    "    print()"
   ]
  },
  {
   "cell_type": "markdown",
   "id": "07bb71f4",
   "metadata": {},
   "source": [
    "#### Write a program to print the following pattern\n",
    "<img src=\"ima3.jpg\" style=\"width:350px; height:200px; float: left;\">\n"
   ]
  },
  {
   "cell_type": "code",
   "execution_count": 8,
   "id": "bb5437fc",
   "metadata": {},
   "outputs": [
    {
     "name": "stdout",
     "output_type": "stream",
     "text": [
      "* \n",
      "* * \n",
      "* * * \n",
      "* * * * \n",
      "* * * * * \n"
     ]
    }
   ],
   "source": [
    "for i in range(1,6):\n",
    "    for j in range(i):\n",
    "        print(\"*\",end=\" \")\n",
    "    print()"
   ]
  },
  {
   "cell_type": "markdown",
   "id": "ff5bc030",
   "metadata": {},
   "source": [
    "#### Write a program to print the following pattern\n",
    "<img src=\"ima4.jpg\" style=\"width:350px; height:200px; float: left;\">\n"
   ]
  },
  {
   "cell_type": "code",
   "execution_count": 11,
   "id": "db8f9056",
   "metadata": {},
   "outputs": [
    {
     "name": "stdout",
     "output_type": "stream",
     "text": [
      "0 \n",
      "1 2 \n",
      "3 4 5 \n",
      "6 7 8 9 \n"
     ]
    }
   ],
   "source": [
    "count=0\n",
    "for i in range(1,5):\n",
    "    for j in range(1,i+1):\n",
    "        print(count,end=\" \")\n",
    "        count +=1\n",
    "    print()"
   ]
  },
  {
   "cell_type": "markdown",
   "id": "3ecb04ac",
   "metadata": {},
   "source": [
    "#### Write a program to print the following pattern\n",
    "<img src=\"ima5.jpg\" style=\"width:350px; height:200px; float: left;\">\n"
   ]
  },
  {
   "cell_type": "code",
   "execution_count": 12,
   "id": "f0dbff37",
   "metadata": {},
   "outputs": [
    {
     "name": "stdout",
     "output_type": "stream",
     "text": [
      "1 \n",
      "2 2 \n",
      "3 3 3 \n",
      "4 4 4 4 \n",
      "5 5 5 5 5 \n"
     ]
    }
   ],
   "source": [
    "for i in range(1,6):\n",
    "    for j in range(i):\n",
    "        print(i,end=\" \")\n",
    "    print()"
   ]
  },
  {
   "cell_type": "markdown",
   "id": "e658ba44",
   "metadata": {},
   "source": [
    "#### Write a program to print the following pattern\n",
    "<img src=\"ima6.jpg\" style=\"width:350px; height:200px; float: left;\">\n"
   ]
  },
  {
   "cell_type": "code",
   "execution_count": 14,
   "id": "ab62c9d9",
   "metadata": {},
   "outputs": [
    {
     "name": "stdout",
     "output_type": "stream",
     "text": [
      "1 \n",
      "1 2 \n",
      "1 2 3 \n",
      "1 2 3 4 \n",
      "1 2 3 4 5 \n"
     ]
    }
   ],
   "source": [
    "for i in range(1,6):\n",
    "    for j in range(1,i+1):\n",
    "        print(j,end=\" \")\n",
    "    print()"
   ]
  },
  {
   "cell_type": "markdown",
   "id": "b54f21e2",
   "metadata": {},
   "source": [
    "#### Write a program to print the following pattern\n",
    "<img src=\"ima7.jpg\" style=\"width:350px; height:200px; float: left;\">"
   ]
  },
  {
   "cell_type": "code",
   "execution_count": 16,
   "id": "7825b83c",
   "metadata": {},
   "outputs": [
    {
     "name": "stdout",
     "output_type": "stream",
     "text": [
      "          1 \n",
      "        1 2 \n",
      "      1 2 3 \n",
      "    1 2 3 4 \n",
      "  1 2 3 4 5 \n"
     ]
    }
   ],
   "source": [
    "for i in range(1,6):\n",
    "    for k in range(6-i):\n",
    "        print(\" \",end=\" \")\n",
    "    for j in range(1,i+1):\n",
    "        print(j,end=\" \")\n",
    "    print()"
   ]
  },
  {
   "cell_type": "markdown",
   "id": "62bfad3e",
   "metadata": {},
   "source": [
    "#### Write a program to print the following pattern\n",
    "<img src=\"ima8.jpg\" style=\"width:350px; height:200px; float: left;\">\n"
   ]
  },
  {
   "cell_type": "code",
   "execution_count": 17,
   "id": "7773c99d",
   "metadata": {},
   "outputs": [
    {
     "name": "stdout",
     "output_type": "stream",
     "text": [
      "          1 \n",
      "        1 2 1 \n",
      "      1 2 3 2 1 \n",
      "    1 2 3 4 3 2 1 \n",
      "  1 2 3 4 5 4 3 2 1 \n"
     ]
    }
   ],
   "source": [
    "for i in range(1,6):\n",
    "    for k in range(6-i):\n",
    "        print(\" \",end=\" \")\n",
    "    for j in range(1,i+1):\n",
    "        print(j,end=\" \")\n",
    "    for l in range(i-1,0,-1):\n",
    "        print(l,end=\" \")\n",
    "    print()"
   ]
  },
  {
   "cell_type": "markdown",
   "id": "4861cca7",
   "metadata": {},
   "source": [
    "#### Write a program to print the following pattern\n",
    "<img src=\"ima9.jpg\" style=\"width:350px; height:200px; float: left;\">\n"
   ]
  },
  {
   "cell_type": "code",
   "execution_count": 18,
   "id": "87bae0e5",
   "metadata": {},
   "outputs": [
    {
     "name": "stdout",
     "output_type": "stream",
     "text": [
      "    1 \n",
      "   2 2 \n",
      "  3 3 3 \n",
      " 4 4 4 4 \n",
      "5 5 5 5 5 \n"
     ]
    }
   ],
   "source": [
    "n=5\n",
    "for i in range(1,n+1):\n",
    "    for k in range(n,i,-1):\n",
    "        print(\"\",end=' ')\n",
    "    for j in range(1,i+1):\n",
    "        print(i,end=\" \")\n",
    "    print()"
   ]
  },
  {
   "cell_type": "code",
   "execution_count": null,
   "id": "49d84dcc",
   "metadata": {},
   "outputs": [],
   "source": []
  }
 ],
 "metadata": {
  "kernelspec": {
   "display_name": "Python 3 (ipykernel)",
   "language": "python",
   "name": "python3"
  },
  "language_info": {
   "codemirror_mode": {
    "name": "ipython",
    "version": 3
   },
   "file_extension": ".py",
   "mimetype": "text/x-python",
   "name": "python",
   "nbconvert_exporter": "python",
   "pygments_lexer": "ipython3",
   "version": "3.9.18"
  }
 },
 "nbformat": 4,
 "nbformat_minor": 5
}
